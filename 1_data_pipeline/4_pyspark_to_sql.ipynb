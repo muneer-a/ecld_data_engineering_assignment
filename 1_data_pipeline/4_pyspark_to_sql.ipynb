{
 "cells": [
  {
   "cell_type": "markdown",
   "id": "ff6777ea-c32a-47e6-bc18-ea9699b382b3",
   "metadata": {},
   "source": [
    "# Inserting Datas Into Database Tables"
   ]
  },
  {
   "cell_type": "code",
   "execution_count": 1,
   "id": "0462b475-7c11-4459-9256-bc97d52b9577",
   "metadata": {},
   "outputs": [],
   "source": [
    "# Import libraries\n",
    "from pyspark.sql import SparkSession\n",
    "import pandas as pd\n",
    "from sqlalchemy import create_engine\n",
    "import psycopg2\n",
    "from pyspark.sql.functions import when"
   ]
  },
  {
   "cell_type": "code",
   "execution_count": 2,
   "id": "f948b548-1ef0-428f-bc92-fae003208dd3",
   "metadata": {},
   "outputs": [],
   "source": [
    "spark = SparkSession.builder.appName(\"InsertDataIntoPostgreSQL\").getOrCreate()"
   ]
  },
  {
   "cell_type": "code",
   "execution_count": 90,
   "id": "65b568c5-34bf-4b6a-90e7-54183ce31e54",
   "metadata": {},
   "outputs": [],
   "source": [
    "df=spark.read.csv(\"export (1).csv\",header=True, inferSchema=True, multiLine=True, escape='\"')"
   ]
  },
  {
   "cell_type": "code",
   "execution_count": 91,
   "id": "9fd442a2-455b-4292-893c-16eb635e0db7",
   "metadata": {},
   "outputs": [],
   "source": [
    "# PostgreSQL database connection details\n",
    "db_name = \"retail_store_db\"\n",
    "db_host = \"localhost\"\n",
    "db_username = \"retail_db_user\"\n",
    "db_password = \"retail_db_password\"\n",
    "db_port = \"5432\""
   ]
  },
  {
   "cell_type": "code",
   "execution_count": 117,
   "id": "ebab55f1-782b-4c05-ac42-970ea28540cf",
   "metadata": {},
   "outputs": [],
   "source": [
    "# Create SQLAlchemy engine for PostgreSQL and establish connection to database\n",
    "engine = create_engine(f'postgresql+psycopg2://{db_username}:{db_password}@{db_host}:{db_port}/{db_name}')\n",
    "conn = engine.connect()"
   ]
  },
  {
   "cell_type": "markdown",
   "id": "a7f50af0-d6e2-4b35-a05f-ab2d20b95833",
   "metadata": {},
   "source": [
    "### Data Insertion Overview\n",
    "\n",
    "The following tables need to be populated as part of the data pipeline:\n",
    "\n",
    "- **Sales**: Contains transactional sales data, including product details, customer information, and order metadata.\n",
    "- **Orders**: Stores information about each order placed by customers.\n",
    "- **Customers**: Maintains customer details.\n",
    "- **Geography**: Holds postal code mappings to geographical locations.\n",
    "- **Products**: Contains product-related details.\n"
   ]
  },
  {
   "cell_type": "markdown",
   "id": "54d07998-ca95-448a-9a81-be3eb9b2409a",
   "metadata": {},
   "source": [
    " **Customer Dimension Table**\n",
    "<!-- CREATE TABLE Customers (\n",
    "    CustomerID VARCHAR PRIMARY KEY,\n",
    "    CustomerName VARCHAR NOT NULL,\n",
    "    Segment VARCHAR CHECK (Segment IN ('Consumer', 'Corporate', 'Home Office'))\n",
    "); -->"
   ]
  },
  {
   "cell_type": "code",
   "execution_count": 10,
   "id": "ed6a0ed1-cf7e-42ac-8eda-5a09bd655ebd",
   "metadata": {},
   "outputs": [
    {
     "data": {
      "text/plain": [
       "793"
      ]
     },
     "execution_count": 10,
     "metadata": {},
     "output_type": "execute_result"
    }
   ],
   "source": [
    "## Customers Table\n",
    "customer_df = df.select(\"Customer ID\", \"Customer Name\", \"Segment\").distinct()\n",
    "customer_pd = customer_df.toPandas()\n",
    "customer_pd.columns = [\"customerid\", \"customername\", \"segment\"]\n",
    "customer_pd.to_sql(\"customers\", con=conn, if_exists='append', index=False)"
   ]
  },
  {
   "cell_type": "code",
   "execution_count": 11,
   "id": "9fd9211a-a43d-4db8-b840-3dfa00be6936",
   "metadata": {},
   "outputs": [
    {
     "data": {
      "text/html": [
       "<div>\n",
       "<style scoped>\n",
       "    .dataframe tbody tr th:only-of-type {\n",
       "        vertical-align: middle;\n",
       "    }\n",
       "\n",
       "    .dataframe tbody tr th {\n",
       "        vertical-align: top;\n",
       "    }\n",
       "\n",
       "    .dataframe thead th {\n",
       "        text-align: right;\n",
       "    }\n",
       "</style>\n",
       "<table border=\"1\" class=\"dataframe\">\n",
       "  <thead>\n",
       "    <tr style=\"text-align: right;\">\n",
       "      <th></th>\n",
       "      <th>customerid</th>\n",
       "      <th>customername</th>\n",
       "      <th>segment</th>\n",
       "    </tr>\n",
       "  </thead>\n",
       "  <tbody>\n",
       "    <tr>\n",
       "      <th>0</th>\n",
       "      <td>LS-17200</td>\n",
       "      <td>Luke Schmidt</td>\n",
       "      <td>Corporate</td>\n",
       "    </tr>\n",
       "    <tr>\n",
       "      <th>1</th>\n",
       "      <td>PN-18775</td>\n",
       "      <td>Parhena Norris</td>\n",
       "      <td>Home Office</td>\n",
       "    </tr>\n",
       "    <tr>\n",
       "      <th>2</th>\n",
       "      <td>DP-13105</td>\n",
       "      <td>Dave Poirier</td>\n",
       "      <td>Corporate</td>\n",
       "    </tr>\n",
       "    <tr>\n",
       "      <th>3</th>\n",
       "      <td>GH-14665</td>\n",
       "      <td>Greg Hansen</td>\n",
       "      <td>Consumer</td>\n",
       "    </tr>\n",
       "    <tr>\n",
       "      <th>4</th>\n",
       "      <td>MG-17875</td>\n",
       "      <td>Michael Grace</td>\n",
       "      <td>Home Office</td>\n",
       "    </tr>\n",
       "    <tr>\n",
       "      <th>...</th>\n",
       "      <td>...</td>\n",
       "      <td>...</td>\n",
       "      <td>...</td>\n",
       "    </tr>\n",
       "    <tr>\n",
       "      <th>788</th>\n",
       "      <td>AB-10165</td>\n",
       "      <td>Alan Barnes</td>\n",
       "      <td>Consumer</td>\n",
       "    </tr>\n",
       "    <tr>\n",
       "      <th>789</th>\n",
       "      <td>EN-13780</td>\n",
       "      <td>Edward Nazzal</td>\n",
       "      <td>Consumer</td>\n",
       "    </tr>\n",
       "    <tr>\n",
       "      <th>790</th>\n",
       "      <td>NR-18550</td>\n",
       "      <td>Nick Radford</td>\n",
       "      <td>Consumer</td>\n",
       "    </tr>\n",
       "    <tr>\n",
       "      <th>791</th>\n",
       "      <td>LM-17065</td>\n",
       "      <td>Liz MacKendrick</td>\n",
       "      <td>Consumer</td>\n",
       "    </tr>\n",
       "    <tr>\n",
       "      <th>792</th>\n",
       "      <td>CR-12730</td>\n",
       "      <td>Craig Reiter</td>\n",
       "      <td>Consumer</td>\n",
       "    </tr>\n",
       "  </tbody>\n",
       "</table>\n",
       "<p>793 rows × 3 columns</p>\n",
       "</div>"
      ],
      "text/plain": [
       "    customerid     customername      segment\n",
       "0     LS-17200     Luke Schmidt    Corporate\n",
       "1     PN-18775   Parhena Norris  Home Office\n",
       "2     DP-13105     Dave Poirier    Corporate\n",
       "3     GH-14665      Greg Hansen     Consumer\n",
       "4     MG-17875    Michael Grace  Home Office\n",
       "..         ...              ...          ...\n",
       "788   AB-10165      Alan Barnes     Consumer\n",
       "789   EN-13780    Edward Nazzal     Consumer\n",
       "790   NR-18550     Nick Radford     Consumer\n",
       "791   LM-17065  Liz MacKendrick     Consumer\n",
       "792   CR-12730     Craig Reiter     Consumer\n",
       "\n",
       "[793 rows x 3 columns]"
      ]
     },
     "execution_count": 11,
     "metadata": {},
     "output_type": "execute_result"
    }
   ],
   "source": [
    "customer_pd"
   ]
  },
  {
   "cell_type": "markdown",
   "id": "5ca4afa0-1cf9-4dd0-af85-7d2a7c9991db",
   "metadata": {},
   "source": [
    "**Geography Dimension Table**\n",
    "<!-- CREATE TABLE Geography (\n",
    "    PostalCode VARCHAR PRIMARY KEY,\n",
    "    City VARCHAR NOT NULL,\n",
    "    State VARCHAR NOT NULL,\n",
    "    Region VARCHAR CHECK (Region IN ('West', 'East', 'Central', 'South'))\n",
    ");\n",
    " -->"
   ]
  },
  {
   "cell_type": "code",
   "execution_count": 93,
   "id": "270e67f4-cbd6-46a0-ab29-f90247374dbe",
   "metadata": {},
   "outputs": [
    {
     "name": "stdout",
     "output_type": "stream",
     "text": [
      "+-----------+----------+-------+------+\n",
      "|Postal Code|      City|  State|Region|\n",
      "+-----------+----------+-------+------+\n",
      "|        N/A|Burlington|Vermont|  East|\n",
      "|        N/A|Burlington|Vermont|  East|\n",
      "|        N/A|Burlington|Vermont|  East|\n",
      "|        N/A|Burlington|Vermont|  East|\n",
      "|        N/A|Burlington|Vermont|  East|\n",
      "|        N/A|Burlington|Vermont|  East|\n",
      "|        N/A|Burlington|Vermont|  East|\n",
      "|        N/A|Burlington|Vermont|  East|\n",
      "|        N/A|Burlington|Vermont|  East|\n",
      "|        N/A|Burlington|Vermont|  East|\n",
      "|        N/A|Burlington|Vermont|  East|\n",
      "+-----------+----------+-------+------+\n",
      "\n"
     ]
    }
   ],
   "source": [
    "# Check 'N/A' rows in df\n",
    "df.select(\"Postal Code\", \"City\", \"State\", \"Region\").filter(col(\"Postal Code\") == \"N/A\").show()"
   ]
  },
  {
   "cell_type": "code",
   "execution_count": 94,
   "id": "bc2cdfaa-a60c-4e7e-bac8-d10a3e8fb949",
   "metadata": {},
   "outputs": [
    {
     "name": "stdout",
     "output_type": "stream",
     "text": [
      "+-----------+----+-----+------+\n",
      "|Postal Code|City|State|Region|\n",
      "+-----------+----+-----+------+\n",
      "+-----------+----+-----+------+\n",
      "\n"
     ]
    }
   ],
   "source": [
    "df = df.withColumn(\"Postal Code\", when(col(\"Postal Code\") == \"N/A\", \"5401\").otherwise(col(\"Postal Code\")))\n",
    "df.select(\"Postal Code\", \"City\", \"State\", \"Region\").filter(col(\"Postal Code\") == \"N/A\").show()\n"
   ]
  },
  {
   "cell_type": "markdown",
   "id": "0103c0e1-0052-4281-98a4-d8e7f340fcac",
   "metadata": {},
   "source": [
    "Since all missing postal codes are from **Burlington, Vermont (East region)**, they are being replaced with the correct postal code **\"05401\"** ."
   ]
  },
  {
   "cell_type": "code",
   "execution_count": 98,
   "id": "5dadaad7-3c6b-43de-8aa7-62ba888b9f3c",
   "metadata": {},
   "outputs": [],
   "source": [
    "## Geography Table\n",
    "geography_df = df.select(\"Postal Code\", \"City\", \"State\", \"Region\").distinct()\n",
    "geography_pd = geography_df.toPandas()\n",
    "geography_pd.columns = [\"postalcode\", \"city\", \"state\", \"region\"]"
   ]
  },
  {
   "cell_type": "code",
   "execution_count": 99,
   "id": "b38b769b-251c-4017-b048-9552cc010520",
   "metadata": {},
   "outputs": [
    {
     "name": "stdout",
     "output_type": "stream",
     "text": [
      "    postalcode       city       state region\n",
      "52       92024  San Diego  California   West\n",
      "625      92024  Encinitas  California   West\n"
     ]
    }
   ],
   "source": [
    "# Identify duplicate postal codes\n",
    "duplicate_postal_codes = geography_pd[geography_pd.duplicated(subset=['postalcode'], keep=False)]\n",
    "# Print the updated duplicate rows\n",
    "duplicate_postal_codes = geography_pd[geography_pd.duplicated(subset=['postalcode'], keep=False)]\n",
    "print(duplicate_postal_codes)\n"
   ]
  },
  {
   "cell_type": "code",
   "execution_count": 100,
   "id": "19efa025-ed75-44bd-8557-4c2b3938bf86",
   "metadata": {},
   "outputs": [],
   "source": [
    "df = df.withColumn(\"Postal Code\", when(df[\"City\"] == \"San Diego\", 92101).otherwise(df[\"Postal Code\"]))"
   ]
  },
  {
   "cell_type": "markdown",
   "id": "ba272a30-9d1c-4c8e-87d2-840b271a5037",
   "metadata": {},
   "source": [
    "The dataset contains duplicate postal codes for different cities. Specifically, **92024** is assigned to both **San Diego** and **Encinitas** in California. To resolve this inconsistency, replaced the **Postal Code** for **San Diego** with **92101**."
   ]
  },
  {
   "cell_type": "code",
   "execution_count": 105,
   "id": "c387aacd-1c5d-4cf1-be1f-e0cdc57b88c9",
   "metadata": {},
   "outputs": [
    {
     "data": {
      "text/plain": [
       "626"
      ]
     },
     "execution_count": 105,
     "metadata": {},
     "output_type": "execute_result"
    }
   ],
   "source": [
    "## Geography Table\n",
    "geography_df = df.select(\"Postal Code\", \"City\", \"State\", \"Region\").distinct()\n",
    "geography_pd = geography_df.toPandas()\n",
    "geography_pd.columns = [\"postalcode\", \"city\", \"state\", \"region\"]\n",
    "geography_pd.to_sql(\"geography\", con=conn, if_exists='append', index=False)\n"
   ]
  },
  {
   "cell_type": "markdown",
   "id": "84b1764a-2568-4411-ade6-bf563e2e3312",
   "metadata": {},
   "source": [
    " **Product Dimension Table**\n",
    "<!-- CREATE TABLE Products (\n",
    "    ProductID VARCHAR NOT NULL,\n",
    "    ProductName VARCHAR NOT NULL,\n",
    "    SubCategory VARCHAR NOT NULL,\n",
    "    Category VARCHAR CHECK (Category IN ('Furniture', 'Office Supplies', 'Technology')),\n",
    "    PRIMARY KEY (ProductID,ProductName)\n",
    "); -->"
   ]
  },
  {
   "cell_type": "code",
   "execution_count": null,
   "id": "f3808637-7693-47c7-9e2c-63f91883fa6f",
   "metadata": {},
   "outputs": [],
   "source": [
    "## Products Table\n",
    "product_df = df.select(\"Product ID\", \"Product Name\", \"Sub-Category\", \"Category\").distinct()\n",
    "product_pd = product_df.toPandas()\n",
    "product_pd.columns = [\"productid\", \"productname\", \"subcategory\", \"category\"]"
   ]
  },
  {
   "cell_type": "code",
   "execution_count": 58,
   "id": "9444b960-6cc9-4c2e-9d28-9453bfcbc53c",
   "metadata": {},
   "outputs": [
    {
     "name": "stdout",
     "output_type": "stream",
     "text": [
      "            productid                                        productname  \\\n",
      "0     OFF-PA-10000659  TOPS Carbonless Receipt Book, Four 2-3/4 x 7-1...   \n",
      "4     OFF-ST-10001228       Fellowes Personal Hanging Folder Files, Navy   \n",
      "31    FUR-FU-10004091            Eldon 200 Class Desk Accessories, Black   \n",
      "50    FUR-FU-10004270     Executive Impressions 13\" Clairmont Wall Clock   \n",
      "64    TEC-PH-10001530                     Plantronics Voyager Pro Legend   \n",
      "...               ...                                                ...   \n",
      "1795  OFF-ST-10004950           Acco Perma 3000 Stacking Storage Drawers   \n",
      "1805  FUR-FU-10001473  Eldon Executive Woodline II Desk Accessories, ...   \n",
      "1808  FUR-CH-10001146                           Global Task Chair, Black   \n",
      "1841  OFF-PA-10000659  Adams Phone Message Book, Professional, 400 Me...   \n",
      "1843  OFF-BI-10004654  Avery Binding System Hidden Tab Executive Styl...   \n",
      "\n",
      "      subcategory         category  \n",
      "0           Paper  Office Supplies  \n",
      "4         Storage  Office Supplies  \n",
      "31    Furnishings        Furniture  \n",
      "50    Furnishings        Furniture  \n",
      "64         Phones       Technology  \n",
      "...           ...              ...  \n",
      "1795      Storage  Office Supplies  \n",
      "1805  Furnishings        Furniture  \n",
      "1808       Chairs        Furniture  \n",
      "1841        Paper  Office Supplies  \n",
      "1843      Binders  Office Supplies  \n",
      "\n",
      "[64 rows x 4 columns]\n"
     ]
    }
   ],
   "source": [
    "# Check for duplicate values based on \"productid\"\n",
    "duplicate_rows = product_pd[product_pd.duplicated(subset=[\"productid\"], keep=False)]\n",
    "# Print duplicate values\n",
    "print(duplicate_rows)\n"
   ]
  },
  {
   "cell_type": "markdown",
   "id": "d5676628-99d0-4cf4-84a6-3a7fa80f5030",
   "metadata": {},
   "source": [
    "In the Products table, since ProductID alone is not unique, a composite primary key (ProductID, ProductName) is used."
   ]
  },
  {
   "cell_type": "code",
   "execution_count": 74,
   "id": "cb7b8ced-d45a-47d4-936b-902dadb39f99",
   "metadata": {},
   "outputs": [
    {
     "data": {
      "text/plain": [
       "893"
      ]
     },
     "execution_count": 74,
     "metadata": {},
     "output_type": "execute_result"
    }
   ],
   "source": [
    "product_pd.to_sql(\"products\", con=conn, if_exists='append', index=False)"
   ]
  },
  {
   "cell_type": "markdown",
   "id": "afa529a0-5f8a-45b9-97f5-c9f255414f77",
   "metadata": {},
   "source": [
    "**Order Dimension Table**\n",
    "<!-- CREATE TABLE Orders (\n",
    "    OrderID VARCHAR PRIMARY KEY,\n",
    "    OrderDate DATE NOT NULL,\n",
    "    ShipDate DATE NOT NULL,\n",
    "    ShipMode VARCHAR CHECK (ShipMode IN ('First Class', 'Second Class', 'Standard Class', 'Same Day'))\n",
    "); -->"
   ]
  },
  {
   "cell_type": "code",
   "execution_count": 56,
   "id": "425ca51c-781c-422f-aaa6-2bdf6ac2e548",
   "metadata": {},
   "outputs": [
    {
     "data": {
      "text/plain": [
       "922"
      ]
     },
     "execution_count": 56,
     "metadata": {},
     "output_type": "execute_result"
    }
   ],
   "source": [
    "## Orders Table\n",
    "order_df = df.select(\"Order ID\", \"Order Date\", \"Ship Date\", \"Ship Mode\").distinct()\n",
    "order_pd = order_df.toPandas()\n",
    "order_pd.columns = [\"orderid\", \"orderdate\", \"shipdate\", \"shipmode\"]\n",
    "order_pd.to_sql(\"orders\", con=conn, if_exists='append', index=False)"
   ]
  },
  {
   "cell_type": "markdown",
   "id": "e4203a88-f593-49f0-9ff3-900d7656ea1d",
   "metadata": {},
   "source": [
    "**Fact Table: Sales**\n",
    "<!-- CREATE TABLE Retail_Sales (\n",
    "    RowID SERIAL PRIMARY KEY,\n",
    "    OrderID VARCHAR NOT NULL,\n",
    "    CustomerID VARCHAR NOT NULL,\n",
    "    PostalCode VARCHAR NOT NULL,\n",
    "    ProductID VARCHAR NOT NULL,\n",
    "    ProductName VARCHAR NOT NULL,\n",
    "    Sales DECIMAL(10,2) NOT NULL CHECK (Sales >= 0), \n",
    "    OrderYear INT CHECK (OrderYear BETWEEN 2000 AND 2100),\n",
    "    OrderMonth INT CHECK (OrderMonth BETWEEN 1 AND 12),\n",
    "    FOREIGN KEY (OrderID) REFERENCES Orders(OrderID) ON DELETE CASCADE,\n",
    "    FOREIGN KEY (CustomerID) REFERENCES Customers(CustomerID) ON DELETE CASCADE,\n",
    "    FOREIGN KEY (PostalCode) REFERENCES Geography(PostalCode) ON DELETE CASCADE,\n",
    "    FOREIGN KEY (ProductID, ProductName) REFERENCES Products(ProductID, ProductName) ON DELETE CASCADE\n",
    "); -->"
   ]
  },
  {
   "cell_type": "code",
   "execution_count": 118,
   "id": "6672283e-8bf6-4213-9131-77b64c931543",
   "metadata": {},
   "outputs": [
    {
     "name": "stdout",
     "output_type": "stream",
     "text": [
      "Data successfully inserted into Retail_Sales table!\n"
     ]
    }
   ],
   "source": [
    "\n",
    "retail_sales_df = df.select(\n",
    "    col(\"Row ID\").alias(\"rowid\"),\n",
    "    col(\"Order ID\").alias(\"orderid\"),\n",
    "    col(\"Customer ID\").alias(\"customerid\"),\n",
    "    col(\"Postal Code\").alias(\"postalcode\"),\n",
    "    col(\"Product ID\").alias(\"productid\"),\n",
    "    col(\"Product Name\").alias(\"productname\"),\n",
    "    col(\"Sales\").alias(\"sales\"),\n",
    "    col(\"Order Year\").alias(\"orderyear\"),\n",
    "    col(\"Order Month\").alias(\"ordermonth\")\n",
    ")\n",
    "\n",
    "# Convert the PySpark DataFrame to Pandas DataFrame for database insertion\n",
    "retail_sales_pd = retail_sales_df.toPandas()\n",
    "\n",
    "# Insert data into the Retail_Sales table\n",
    "retail_sales_pd.to_sql(\"retail_sales\", con=engine, if_exists=\"append\", index=False)\n",
    "\n",
    "print(\"Data successfully inserted into Retail_Sales table!\")\n"
   ]
  },
  {
   "cell_type": "code",
   "execution_count": 120,
   "id": "42507ce3-4c9c-42ab-a337-66aa793785e6",
   "metadata": {},
   "outputs": [
    {
     "data": {
      "text/plain": [
       "rowid          9800\n",
       "orderid        9800\n",
       "customerid     9800\n",
       "postalcode     9800\n",
       "productid      9800\n",
       "productname    9800\n",
       "sales          9800\n",
       "orderyear      9800\n",
       "ordermonth     9800\n",
       "dtype: int64"
      ]
     },
     "execution_count": 120,
     "metadata": {},
     "output_type": "execute_result"
    }
   ],
   "source": [
    "retail_sales_pd.count()"
   ]
  },
  {
   "cell_type": "code",
   "execution_count": 14,
   "id": "8c1b354e-5b1e-49e9-bcb5-ddc51870a5fd",
   "metadata": {},
   "outputs": [
    {
     "name": "stdout",
     "output_type": "stream",
     "text": [
      "Data inserted into main123 successfully\n"
     ]
    }
   ],
   "source": [
    "# # Insert data into PostgreSQL table\n",
    "# df_pd = df.toPandas\n",
    "# table_name = \"main123\"\n",
    "# df_pd.to_sql(table_name, con=conn, if_exists='append', index=False)\n",
    "# print(f\"Data inserted into {table_name} successfully\")"
   ]
  },
  {
   "cell_type": "markdown",
   "id": "402a8e3d-4f3a-4d8b-ac5d-1174afc63182",
   "metadata": {},
   "source": [
    "## Conclusion\n",
    "Designed efficient PostgreSQL schema for retail analytics and corresponding data are then populated into the schema."
   ]
  },
  {
   "cell_type": "code",
   "execution_count": null,
   "id": "0fba7bc4-2bd8-4b1b-ae2f-07ad334ef9d5",
   "metadata": {},
   "outputs": [],
   "source": []
  }
 ],
 "metadata": {
  "kernelspec": {
   "display_name": "Python 3 (ipykernel)",
   "language": "python",
   "name": "python3"
  },
  "language_info": {
   "codemirror_mode": {
    "name": "ipython",
    "version": 3
   },
   "file_extension": ".py",
   "mimetype": "text/x-python",
   "name": "python",
   "nbconvert_exporter": "python",
   "pygments_lexer": "ipython3",
   "version": "3.11.9"
  }
 },
 "nbformat": 4,
 "nbformat_minor": 5
}
