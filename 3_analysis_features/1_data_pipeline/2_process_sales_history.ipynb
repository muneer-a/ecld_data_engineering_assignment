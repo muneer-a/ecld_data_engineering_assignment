{
 "cells": [
  {
   "cell_type": "markdown",
   "metadata": {
    "application/vnd.databricks.v1+cell": {
     "cellMetadata": {
      "byteLimit": 2048000,
      "rowLimit": 10000
     },
     "inputWidgets": {},
     "nuid": "02d7a204-7c2e-4c4c-8960-ae5bfc9ee38a",
     "showTitle": false,
     "tableResultSettingsMap": {},
     "title": ""
    }
   },
   "source": [
    "# Process sales history with PySpark  "
   ]
  },
  {
   "cell_type": "code",
   "execution_count": 0,
   "metadata": {
    "application/vnd.databricks.v1+cell": {
     "cellMetadata": {
      "byteLimit": 2048000,
      "rowLimit": 10000
     },
     "inputWidgets": {},
     "nuid": "160b52b4-1b78-49cb-b364-9777aa2c4e88",
     "showTitle": false,
     "tableResultSettingsMap": {},
     "title": ""
    }
   },
   "outputs": [],
   "source": [
    "from pyspark.sql import SparkSession\n",
    "from pyspark.sql.functions import col, sum, avg, count, year, month, round, regexp_replace"
   ]
  },
  {
   "cell_type": "code",
   "execution_count": 0,
   "metadata": {
    "application/vnd.databricks.v1+cell": {
     "cellMetadata": {
      "byteLimit": 2048000,
      "rowLimit": 10000
     },
     "inputWidgets": {},
     "nuid": "82d98290-588b-4e80-b72d-4a74022ca554",
     "showTitle": false,
     "tableResultSettingsMap": {},
     "title": ""
    }
   },
   "outputs": [],
   "source": [
    "# Start Spark session\n",
    "spark = SparkSession.builder \\\n",
    "    .appName(\"Sales History Processing\") \\\n",
    "    .getOrCreate()"
   ]
  },
  {
   "cell_type": "markdown",
   "metadata": {
    "application/vnd.databricks.v1+cell": {
     "cellMetadata": {
      "byteLimit": 2048000,
      "rowLimit": 10000
     },
     "inputWidgets": {},
     "nuid": "dca6f720-ed24-4d01-9c23-d7e7aee87884",
     "showTitle": false,
     "tableResultSettingsMap": {},
     "title": ""
    }
   },
   "source": [
    "- Load the cleaned dataset"
   ]
  },
  {
   "cell_type": "code",
   "execution_count": 0,
   "metadata": {
    "application/vnd.databricks.v1+cell": {
     "cellMetadata": {
      "byteLimit": 2048000,
      "rowLimit": 10000
     },
     "inputWidgets": {},
     "nuid": "ed84440e-7c84-487a-929b-f0017669837e",
     "showTitle": false,
     "tableResultSettingsMap": {},
     "title": ""
    }
   },
   "outputs": [],
   "source": [
    "df = spark.read.csv(\"dbfs:/FileStore/Retail_Store_Chain_Analysis/2_cleaned_data.csv\", header=True, inferSchema=True, multiLine=True, escape='\"')\n"
   ]
  },
  {
   "cell_type": "code",
   "execution_count": 0,
   "metadata": {
    "application/vnd.databricks.v1+cell": {
     "cellMetadata": {
      "byteLimit": 2048000,
      "rowLimit": 10000
     },
     "inputWidgets": {},
     "nuid": "3fee7fe8-cd05-4769-ac48-eda2e7d8311d",
     "showTitle": false,
     "tableResultSettingsMap": {},
     "title": ""
    }
   },
   "outputs": [
    {
     "data": {
      "text/html": [
       "<style scoped>\n",
       "  .table-result-container {\n",
       "    max-height: 300px;\n",
       "    overflow: auto;\n",
       "  }\n",
       "  table, th, td {\n",
       "    border: 1px solid black;\n",
       "    border-collapse: collapse;\n",
       "  }\n",
       "  th, td {\n",
       "    padding: 5px;\n",
       "  }\n",
       "  th {\n",
       "    text-align: left;\n",
       "  }\n",
       "</style><div class='table-result-container'><table class='table-result'><thead style='background-color: white'><tr><th>Row ID</th><th>Order ID</th><th>Order Date</th><th>Ship Date</th><th>Ship Mode</th><th>Customer ID</th><th>Customer Name</th><th>Segment</th><th>Country</th><th>City</th><th>State</th><th>Postal Code</th><th>Region</th><th>Product ID</th><th>Category</th><th>Sub-Category</th><th>Product Name</th><th>Sales</th></tr></thead><tbody><tr><td>0</td><td>0</td><td>0</td><td>0</td><td>0</td><td>0</td><td>0</td><td>0</td><td>0</td><td>0</td><td>0</td><td>0</td><td>0</td><td>0</td><td>0</td><td>0</td><td>0</td><td>0</td></tr></tbody></table></div>"
      ]
     },
     "metadata": {
      "application/vnd.databricks.v1+output": {
       "addedWidgets": {},
       "aggData": [],
       "aggError": "",
       "aggOverflow": false,
       "aggSchema": [],
       "aggSeriesLimitReached": false,
       "aggType": "",
       "arguments": {},
       "columnCustomDisplayInfos": {},
       "data": [
        [
         0,
         0,
         0,
         0,
         0,
         0,
         0,
         0,
         0,
         0,
         0,
         0,
         0,
         0,
         0,
         0,
         0,
         0
        ]
       ],
       "datasetInfos": [],
       "dbfsResultPath": null,
       "isJsonSchema": true,
       "metadata": {},
       "overflow": false,
       "plotOptions": {
        "customPlotOptions": {},
        "displayType": "table",
        "pivotAggregation": null,
        "pivotColumns": null,
        "xColumns": null,
        "yColumns": null
       },
       "removedWidgets": [],
       "schema": [
        {
         "metadata": "{}",
         "name": "Row ID",
         "type": "\"long\""
        },
        {
         "metadata": "{}",
         "name": "Order ID",
         "type": "\"long\""
        },
        {
         "metadata": "{}",
         "name": "Order Date",
         "type": "\"long\""
        },
        {
         "metadata": "{}",
         "name": "Ship Date",
         "type": "\"long\""
        },
        {
         "metadata": "{}",
         "name": "Ship Mode",
         "type": "\"long\""
        },
        {
         "metadata": "{}",
         "name": "Customer ID",
         "type": "\"long\""
        },
        {
         "metadata": "{}",
         "name": "Customer Name",
         "type": "\"long\""
        },
        {
         "metadata": "{}",
         "name": "Segment",
         "type": "\"long\""
        },
        {
         "metadata": "{}",
         "name": "Country",
         "type": "\"long\""
        },
        {
         "metadata": "{}",
         "name": "City",
         "type": "\"long\""
        },
        {
         "metadata": "{}",
         "name": "State",
         "type": "\"long\""
        },
        {
         "metadata": "{}",
         "name": "Postal Code",
         "type": "\"long\""
        },
        {
         "metadata": "{}",
         "name": "Region",
         "type": "\"long\""
        },
        {
         "metadata": "{}",
         "name": "Product ID",
         "type": "\"long\""
        },
        {
         "metadata": "{}",
         "name": "Category",
         "type": "\"long\""
        },
        {
         "metadata": "{}",
         "name": "Sub-Category",
         "type": "\"long\""
        },
        {
         "metadata": "{}",
         "name": "Product Name",
         "type": "\"long\""
        },
        {
         "metadata": "{}",
         "name": "Sales",
         "type": "\"long\""
        }
       ],
       "type": "table"
      }
     },
     "output_type": "display_data"
    }
   ],
   "source": [
    "# Checking missing values for all columns\n",
    "null_count = df.select([sum(col(c).isNull().cast(\"int\")).alias(c) for c in df.columns])\n",
    "display(null_count)"
   ]
  },
  {
   "cell_type": "code",
   "execution_count": 0,
   "metadata": {
    "application/vnd.databricks.v1+cell": {
     "cellMetadata": {
      "byteLimit": 2048000,
      "rowLimit": 10000
     },
     "inputWidgets": {},
     "nuid": "fb3970f8-9315-458e-9a81-91ac2ae90aef",
     "showTitle": false,
     "tableResultSettingsMap": {},
     "title": ""
    }
   },
   "outputs": [
    {
     "name": "stdout",
     "output_type": "stream",
     "text": [
      "root\n",
      " |-- Row ID: integer (nullable = true)\n",
      " |-- Order ID: string (nullable = true)\n",
      " |-- Order Date: date (nullable = true)\n",
      " |-- Ship Date: date (nullable = true)\n",
      " |-- Ship Mode: string (nullable = true)\n",
      " |-- Customer ID: string (nullable = true)\n",
      " |-- Customer Name: string (nullable = true)\n",
      " |-- Segment: string (nullable = true)\n",
      " |-- Country: string (nullable = true)\n",
      " |-- City: string (nullable = true)\n",
      " |-- State: string (nullable = true)\n",
      " |-- Postal Code: string (nullable = true)\n",
      " |-- Region: string (nullable = true)\n",
      " |-- Product ID: string (nullable = true)\n",
      " |-- Category: string (nullable = true)\n",
      " |-- Sub-Category: string (nullable = true)\n",
      " |-- Product Name: string (nullable = true)\n",
      " |-- Sales: double (nullable = true)\n",
      "\n"
     ]
    }
   ],
   "source": [
    "df.printSchema()"
   ]
  },
  {
   "cell_type": "code",
   "execution_count": 0,
   "metadata": {
    "application/vnd.databricks.v1+cell": {
     "cellMetadata": {
      "byteLimit": 2048000,
      "rowLimit": 10000
     },
     "inputWidgets": {},
     "nuid": "56cc86f6-e59a-4e15-805a-50d28c949032",
     "showTitle": false,
     "tableResultSettingsMap": {},
     "title": ""
    }
   },
   "outputs": [
    {
     "name": "stdout",
     "output_type": "stream",
     "text": [
      "+-------+\n",
      "|Sales  |\n",
      "+-------+\n",
      "|16.448 |\n",
      "|3.54   |\n",
      "|272.736|\n",
      "|11.784 |\n",
      "|19.536 |\n",
      "|500.641|\n",
      "|391.98 |\n",
      "|19.44  |\n",
      "|500.641|\n",
      "|6.54   |\n",
      "|500.641|\n",
      "|12.78  |\n",
      "|5.48   |\n",
      "|31.12  |\n",
      "|10.43  |\n",
      "|76.728 |\n",
      "|9.344  |\n",
      "|31.2   |\n",
      "|51.94  |\n",
      "|2.89   |\n",
      "+-------+\n",
      "only showing top 20 rows\n",
      "\n"
     ]
    }
   ],
   "source": [
    "# Round Sales column to 2 decimal places\n",
    "df = df.withColumn(\"Sales\", round(col(\"Sales\"), 3))\n",
    "df.select('Sales').show(truncate=False)\n"
   ]
  },
  {
   "cell_type": "code",
   "execution_count": 0,
   "metadata": {
    "application/vnd.databricks.v1+cell": {
     "cellMetadata": {
      "byteLimit": 2048000,
      "rowLimit": 10000
     },
     "inputWidgets": {},
     "nuid": "1dcb7b52-d5d7-4c31-aaa3-edd534986538",
     "showTitle": false,
     "tableResultSettingsMap": {},
     "title": ""
    }
   },
   "outputs": [
    {
     "data": {
      "text/html": [
       "<style scoped>\n",
       "  .table-result-container {\n",
       "    max-height: 300px;\n",
       "    overflow: auto;\n",
       "  }\n",
       "  table, th, td {\n",
       "    border: 1px solid black;\n",
       "    border-collapse: collapse;\n",
       "  }\n",
       "  th, td {\n",
       "    padding: 5px;\n",
       "  }\n",
       "  th {\n",
       "    text-align: left;\n",
       "  }\n",
       "</style><div class='table-result-container'><table class='table-result'><thead style='background-color: white'><tr><th>summary</th><th>Row ID</th><th>Order ID</th><th>Ship Mode</th><th>Customer ID</th><th>Customer Name</th><th>Segment</th><th>Country</th><th>City</th><th>State</th><th>Postal Code</th><th>Region</th><th>Product ID</th><th>Category</th><th>Sub-Category</th><th>Product Name</th><th>Sales</th></tr></thead><tbody><tr><td>count</td><td>9800</td><td>9800</td><td>9800</td><td>9800</td><td>9800</td><td>9800</td><td>9800</td><td>9800</td><td>9800</td><td>9800</td><td>9800</td><td>9800</td><td>9800</td><td>9800</td><td>9800</td><td>9800</td></tr><tr><td>mean</td><td>4900.5</td><td>null</td><td>null</td><td>null</td><td>null</td><td>null</td><td>null</td><td>null</td><td>null</td><td>55273.322402696904</td><td>null</td><td>null</td><td>null</td><td>null</td><td>null</td><td>140.81584877550767</td></tr><tr><td>stddev</td><td>2829.160652914572</td><td>null</td><td>null</td><td>null</td><td>null</td><td>null</td><td>null</td><td>null</td><td>null</td><td>32041.223412812866</td><td>null</td><td>null</td><td>null</td><td>null</td><td>null</td><td>169.5517360055789</td></tr><tr><td>min</td><td>1</td><td>CA-2015-100006</td><td>First Class</td><td>AA-10315</td><td>Aaron Bergman</td><td>Consumer</td><td>United States</td><td>Aberdeen</td><td>Alabama</td><td>10009.0</td><td>Central</td><td>FUR-BO-10000112</td><td>Furniture</td><td>Accessories</td><td>\"While you Were Out\" Message Book, One Form per Page</td><td>0.444</td></tr><tr><td>25%</td><td>2449</td><td>null</td><td>null</td><td>null</td><td>null</td><td>null</td><td>null</td><td>null</td><td>null</td><td>23223.0</td><td>null</td><td>null</td><td>null</td><td>null</td><td>null</td><td>17.24</td></tr><tr><td>50%</td><td>4899</td><td>null</td><td>null</td><td>null</td><td>null</td><td>null</td><td>null</td><td>null</td><td>null</td><td>58103.0</td><td>null</td><td>null</td><td>null</td><td>null</td><td>null</td><td>54.384</td></tr><tr><td>75%</td><td>7349</td><td>null</td><td>null</td><td>null</td><td>null</td><td>null</td><td>null</td><td>null</td><td>null</td><td>90008.0</td><td>null</td><td>null</td><td>null</td><td>null</td><td>null</td><td>210.564</td></tr><tr><td>max</td><td>9800</td><td>US-2018-169551</td><td>Standard Class</td><td>ZD-21925</td><td>Zuschuss Donatelli</td><td>Home Office</td><td>United States</td><td>Yuma</td><td>Wyoming</td><td>N/A</td><td>West</td><td>TEC-PH-10004977</td><td>Technology</td><td>Tables</td><td>netTALK DUO VoIP Telephone Service</td><td>500.641</td></tr></tbody></table></div>"
      ]
     },
     "metadata": {
      "application/vnd.databricks.v1+output": {
       "addedWidgets": {},
       "aggData": [],
       "aggError": "",
       "aggOverflow": false,
       "aggSchema": [],
       "aggSeriesLimitReached": false,
       "aggType": "",
       "arguments": {},
       "columnCustomDisplayInfos": {},
       "data": [
        [
         "count",
         "9800",
         "9800",
         "9800",
         "9800",
         "9800",
         "9800",
         "9800",
         "9800",
         "9800",
         "9800",
         "9800",
         "9800",
         "9800",
         "9800",
         "9800",
         "9800"
        ],
        [
         "mean",
         "4900.5",
         null,
         null,
         null,
         null,
         null,
         null,
         null,
         null,
         "55273.322402696904",
         null,
         null,
         null,
         null,
         null,
         "140.81584877550767"
        ],
        [
         "stddev",
         "2829.160652914572",
         null,
         null,
         null,
         null,
         null,
         null,
         null,
         null,
         "32041.223412812866",
         null,
         null,
         null,
         null,
         null,
         "169.5517360055789"
        ],
        [
         "min",
         "1",
         "CA-2015-100006",
         "First Class",
         "AA-10315",
         "Aaron Bergman",
         "Consumer",
         "United States",
         "Aberdeen",
         "Alabama",
         "10009.0",
         "Central",
         "FUR-BO-10000112",
         "Furniture",
         "Accessories",
         "\"While you Were Out\" Message Book, One Form per Page",
         "0.444"
        ],
        [
         "25%",
         "2449",
         null,
         null,
         null,
         null,
         null,
         null,
         null,
         null,
         "23223.0",
         null,
         null,
         null,
         null,
         null,
         "17.24"
        ],
        [
         "50%",
         "4899",
         null,
         null,
         null,
         null,
         null,
         null,
         null,
         null,
         "58103.0",
         null,
         null,
         null,
         null,
         null,
         "54.384"
        ],
        [
         "75%",
         "7349",
         null,
         null,
         null,
         null,
         null,
         null,
         null,
         null,
         "90008.0",
         null,
         null,
         null,
         null,
         null,
         "210.564"
        ],
        [
         "max",
         "9800",
         "US-2018-169551",
         "Standard Class",
         "ZD-21925",
         "Zuschuss Donatelli",
         "Home Office",
         "United States",
         "Yuma",
         "Wyoming",
         "N/A",
         "West",
         "TEC-PH-10004977",
         "Technology",
         "Tables",
         "netTALK DUO VoIP Telephone Service",
         "500.641"
        ]
       ],
       "datasetInfos": [],
       "dbfsResultPath": null,
       "isJsonSchema": true,
       "metadata": {},
       "overflow": false,
       "plotOptions": {
        "customPlotOptions": {},
        "displayType": "table",
        "pivotAggregation": null,
        "pivotColumns": null,
        "xColumns": null,
        "yColumns": null
       },
       "removedWidgets": [],
       "schema": [
        {
         "metadata": "{}",
         "name": "summary",
         "type": "\"string\""
        },
        {
         "metadata": "{}",
         "name": "Row ID",
         "type": "\"string\""
        },
        {
         "metadata": "{}",
         "name": "Order ID",
         "type": "\"string\""
        },
        {
         "metadata": "{}",
         "name": "Ship Mode",
         "type": "\"string\""
        },
        {
         "metadata": "{}",
         "name": "Customer ID",
         "type": "\"string\""
        },
        {
         "metadata": "{}",
         "name": "Customer Name",
         "type": "\"string\""
        },
        {
         "metadata": "{}",
         "name": "Segment",
         "type": "\"string\""
        },
        {
         "metadata": "{}",
         "name": "Country",
         "type": "\"string\""
        },
        {
         "metadata": "{}",
         "name": "City",
         "type": "\"string\""
        },
        {
         "metadata": "{}",
         "name": "State",
         "type": "\"string\""
        },
        {
         "metadata": "{}",
         "name": "Postal Code",
         "type": "\"string\""
        },
        {
         "metadata": "{}",
         "name": "Region",
         "type": "\"string\""
        },
        {
         "metadata": "{}",
         "name": "Product ID",
         "type": "\"string\""
        },
        {
         "metadata": "{}",
         "name": "Category",
         "type": "\"string\""
        },
        {
         "metadata": "{}",
         "name": "Sub-Category",
         "type": "\"string\""
        },
        {
         "metadata": "{}",
         "name": "Product Name",
         "type": "\"string\""
        },
        {
         "metadata": "{}",
         "name": "Sales",
         "type": "\"string\""
        }
       ],
       "type": "table"
      }
     },
     "output_type": "display_data"
    }
   ],
   "source": [
    "display(df.summary())\n"
   ]
  },
  {
   "cell_type": "code",
   "execution_count": 0,
   "metadata": {
    "application/vnd.databricks.v1+cell": {
     "cellMetadata": {
      "byteLimit": 2048000,
      "rowLimit": 10000
     },
     "inputWidgets": {},
     "nuid": "cbf97473-b6ba-4399-bbe7-0d6645124222",
     "showTitle": false,
     "tableResultSettingsMap": {},
     "title": ""
    }
   },
   "outputs": [
    {
     "data": {
      "text/plain": [
       "False"
      ]
     },
     "execution_count": 24,
     "metadata": {},
     "output_type": "execute_result"
    }
   ],
   "source": [
    "df.isEmpty()"
   ]
  },
  {
   "cell_type": "code",
   "execution_count": 0,
   "metadata": {
    "application/vnd.databricks.v1+cell": {
     "cellMetadata": {
      "byteLimit": 2048000,
      "rowLimit": 10000
     },
     "inputWidgets": {},
     "nuid": "ad44bcc1-4022-4217-bf56-7714a16e533c",
     "showTitle": false,
     "tableResultSettingsMap": {},
     "title": ""
    }
   },
   "outputs": [
    {
     "data": {
      "text/plain": [
       "9800"
      ]
     },
     "execution_count": 22,
     "metadata": {},
     "output_type": "execute_result"
    }
   ],
   "source": [
    "df.count()"
   ]
  },
  {
   "cell_type": "code",
   "execution_count": 0,
   "metadata": {
    "application/vnd.databricks.v1+cell": {
     "cellMetadata": {
      "byteLimit": 2048000,
      "rowLimit": 10000
     },
     "inputWidgets": {},
     "nuid": "bf10c9ed-32b2-4841-a156-292bfd64db94",
     "showTitle": false,
     "tableResultSettingsMap": {},
     "title": ""
    }
   },
   "outputs": [
    {
     "data": {
      "text/plain": [
       "9800"
      ]
     },
     "execution_count": 30,
     "metadata": {},
     "output_type": "execute_result"
    }
   ],
   "source": [
    "df.select('Row ID').distinct().count()"
   ]
  },
  {
   "cell_type": "code",
   "execution_count": 0,
   "metadata": {
    "application/vnd.databricks.v1+cell": {
     "cellMetadata": {
      "byteLimit": 2048000,
      "rowLimit": 10000
     },
     "inputWidgets": {},
     "nuid": "91497a08-f14a-4730-8d46-42509ca61f9f",
     "showTitle": false,
     "tableResultSettingsMap": {},
     "title": ""
    }
   },
   "outputs": [
    {
     "data": {
      "text/plain": [
       "4922"
      ]
     },
     "execution_count": 31,
     "metadata": {},
     "output_type": "execute_result"
    }
   ],
   "source": [
    "df.select('Order ID').distinct().count()"
   ]
  },
  {
   "cell_type": "code",
   "execution_count": 0,
   "metadata": {
    "application/vnd.databricks.v1+cell": {
     "cellMetadata": {
      "byteLimit": 2048000,
      "rowLimit": 10000
     },
     "inputWidgets": {},
     "nuid": "e9288f09-5e6b-4d4a-a03b-16410dd7ef22",
     "showTitle": false,
     "tableResultSettingsMap": {},
     "title": ""
    }
   },
   "outputs": [
    {
     "data": {
      "text/plain": [
       "793"
      ]
     },
     "execution_count": 32,
     "metadata": {},
     "output_type": "execute_result"
    }
   ],
   "source": [
    "df.select('Customer ID').distinct().count()"
   ]
  },
  {
   "cell_type": "code",
   "execution_count": 0,
   "metadata": {
    "application/vnd.databricks.v1+cell": {
     "cellMetadata": {
      "byteLimit": 2048000,
      "rowLimit": 10000
     },
     "inputWidgets": {},
     "nuid": "640ec41f-247d-4451-8e55-9db70109ead9",
     "showTitle": false,
     "tableResultSettingsMap": {},
     "title": ""
    }
   },
   "outputs": [
    {
     "name": "stdout",
     "output_type": "stream",
     "text": [
      "+----------+\n",
      "|Order Date|\n",
      "+----------+\n",
      "|2015-01-20|\n",
      "|2015-01-23|\n",
      "|2015-01-11|\n",
      "|2015-01-10|\n",
      "|2015-01-26|\n",
      "|2015-01-15|\n",
      "|2015-01-14|\n",
      "|2015-01-30|\n",
      "|2015-01-03|\n",
      "|2015-01-06|\n",
      "|2015-01-05|\n",
      "|2015-01-04|\n",
      "|2015-01-16|\n",
      "|2015-01-19|\n",
      "|2015-01-13|\n",
      "|2015-01-28|\n",
      "|2015-01-18|\n",
      "|2015-01-09|\n",
      "|2015-01-27|\n",
      "|2015-01-07|\n",
      "+----------+\n",
      "only showing top 20 rows\n",
      "\n"
     ]
    }
   ],
   "source": [
    "df.select('Order Date').distinct().show()"
   ]
  },
  {
   "cell_type": "code",
   "execution_count": 0,
   "metadata": {
    "application/vnd.databricks.v1+cell": {
     "cellMetadata": {
      "byteLimit": 2048000,
      "rowLimit": 10000
     },
     "inputWidgets": {},
     "nuid": "9fd50e47-b578-45f7-8b28-92aef8c30987",
     "showTitle": false,
     "tableResultSettingsMap": {},
     "title": ""
    }
   },
   "outputs": [],
   "source": [
    "# Extract Year and Month\n",
    "df = df.withColumn('Order Year', year('Order Date'))\n",
    "df = df.withColumn('Order Month', month('Order Date'))"
   ]
  },
  {
   "cell_type": "code",
   "execution_count": 0,
   "metadata": {
    "application/vnd.databricks.v1+cell": {
     "cellMetadata": {
      "byteLimit": 2048000,
      "rowLimit": 10000
     },
     "inputWidgets": {},
     "nuid": "fcb1c241-dae7-4f5f-94c3-50ac679c2286",
     "showTitle": false,
     "tableResultSettingsMap": {},
     "title": ""
    }
   },
   "outputs": [
    {
     "name": "stdout",
     "output_type": "stream",
     "text": [
      "+----------+\n",
      "|Order Year|\n",
      "+----------+\n",
      "|      2018|\n",
      "|      2015|\n",
      "|      2016|\n",
      "|      2017|\n",
      "+----------+\n",
      "\n"
     ]
    }
   ],
   "source": [
    "df.select('Order Year').distinct().show()"
   ]
  },
  {
   "cell_type": "code",
   "execution_count": 0,
   "metadata": {
    "application/vnd.databricks.v1+cell": {
     "cellMetadata": {
      "byteLimit": 2048000,
      "rowLimit": 10000
     },
     "inputWidgets": {},
     "nuid": "bbf0f05c-dffb-4635-8dc0-62c6bb310f4b",
     "showTitle": false,
     "tableResultSettingsMap": {},
     "title": ""
    }
   },
   "outputs": [
    {
     "name": "stdout",
     "output_type": "stream",
     "text": [
      "+----------------+------------------+------------------+------------+\n",
      "|year(Order Date)|       Total Sales|     Average Sales|Total Orders|\n",
      "+----------------+------------------+------------------+------------+\n",
      "|            2018| 445421.1410000021|136.71612676488706|        3258|\n",
      "|            2015|280887.89200000087| 143.8238054275478|        1953|\n",
      "|            2016| 297655.9430000007|144.84474111922177|        2055|\n",
      "|            2017| 356030.3420000017|140.50131886345764|        2534|\n",
      "+----------------+------------------+------------------+------------+\n",
      "\n"
     ]
    }
   ],
   "source": [
    "# Aggregation: Sales Summary by Year\n",
    "sales_by_year = df.groupBy('Order Year').agg(\n",
    "    sum(\"Sales\").alias(\"Total Sales\"),\n",
    "    avg(\"Sales\").alias(\"Average Sales\"),\n",
    "    count(\"Order ID\").alias(\"Total Orders\")\n",
    ")\n",
    "sales_by_year.show()"
   ]
  },
  {
   "cell_type": "code",
   "execution_count": 0,
   "metadata": {
    "application/vnd.databricks.v1+cell": {
     "cellMetadata": {
      "byteLimit": 2048000,
      "rowLimit": 10000
     },
     "inputWidgets": {},
     "nuid": "240db052-d7b8-42a0-a7f0-7b6eb170525b",
     "showTitle": false,
     "tableResultSettingsMap": {},
     "title": ""
    }
   },
   "outputs": [
    {
     "name": "stdout",
     "output_type": "stream",
     "text": [
      "+----------------+-----------------+------------------+------------------+------------+\n",
      "|year(Order Date)|month(Order Date)|       Total Sales|     Average Sales|Total Orders|\n",
      "+----------------+-----------------+------------------+------------------+------------+\n",
      "|            2015|                2|3764.3130000000006| 81.83289130434784|          46|\n",
      "|            2017|                3|26654.688999999988|165.55707453416142|         161|\n",
      "|            2017|                8|21750.265000000003|124.28722857142859|         175|\n",
      "|            2017|               10| 25285.31299999998|131.69433854166655|         192|\n",
      "|            2018|               10| 39056.90300000003| 132.8466088435375|         294|\n",
      "|            2015|               12| 40913.90099999999|149.32080656934303|         274|\n",
      "|            2016|                7| 21369.58799999999| 157.1293235294117|         136|\n",
      "|            2016|               11| 49471.73300000009|154.11754828660463|         321|\n",
      "|            2018|                1|20385.859999999997|142.55846153846153|         143|\n",
      "|            2018|                3| 33470.28399999999|141.22482700421938|         237|\n",
      "|            2016|                5|19146.154999999995|133.88919580419577|         143|\n",
      "|            2018|                8|33361.693999999996|155.89576635514015|         214|\n",
      "|            2016|                2| 8568.015999999998|133.87524999999997|          64|\n",
      "|            2017|                7|26835.934999999987|136.91803571428565|         196|\n",
      "|            2015|                4|18542.315999999995|142.63319999999996|         130|\n",
      "|            2015|                8|20172.545999999977|138.16812328767108|         146|\n",
      "|            2016|                9| 40216.21800000004| 141.1095368421054|         285|\n",
      "|            2018|                5|31967.590999999975|133.19829583333322|         240|\n",
      "|            2015|               11|48747.457000000046| 159.3054150326799|         306|\n",
      "|            2016|               10|23014.557999999986|140.33267073170722|         164|\n",
      "+----------------+-----------------+------------------+------------------+------------+\n",
      "only showing top 20 rows\n",
      "\n"
     ]
    }
   ],
   "source": [
    "# Aggregate sales by Year and Month\n",
    "seasonal_sales = df.groupBy('Order Year', 'Order Month').agg(\n",
    "    sum('Sales').alias('Total Sales'),\n",
    "    avg('Sales').alias('Average Sales'),\n",
    "    count('Order ID').alias('Total Orders')\n",
    ")\n",
    "seasonal_sales.show()\n"
   ]
  },
  {
   "cell_type": "code",
   "execution_count": 0,
   "metadata": {
    "application/vnd.databricks.v1+cell": {
     "cellMetadata": {
      "byteLimit": 2048000,
      "rowLimit": 10000
     },
     "inputWidgets": {},
     "nuid": "ebf7b9ed-95d7-499f-89f6-7518f7883f73",
     "showTitle": false,
     "tableResultSettingsMap": {},
     "title": ""
    }
   },
   "outputs": [
    {
     "data": {
      "text/plain": [
       "['Row ID',\n",
       " 'Order ID',\n",
       " 'Order Date',\n",
       " 'Ship Date',\n",
       " 'Ship Mode',\n",
       " 'Customer ID',\n",
       " 'Customer Name',\n",
       " 'Segment',\n",
       " 'Country',\n",
       " 'City',\n",
       " 'State',\n",
       " 'Postal Code',\n",
       " 'Region',\n",
       " 'Product ID',\n",
       " 'Category',\n",
       " 'Sub-Category',\n",
       " 'Product Name',\n",
       " 'Sales',\n",
       " 'Order Year',\n",
       " 'Order Month']"
      ]
     },
     "execution_count": 39,
     "metadata": {},
     "output_type": "execute_result"
    }
   ],
   "source": [
    "df.columns"
   ]
  },
  {
   "cell_type": "code",
   "execution_count": 0,
   "metadata": {
    "application/vnd.databricks.v1+cell": {
     "cellMetadata": {
      "byteLimit": 2048000,
      "rowLimit": 10000
     },
     "inputWidgets": {},
     "nuid": "3472c799-2c18-4ca7-b014-cd0d3f33d399",
     "showTitle": false,
     "tableResultSettingsMap": {},
     "title": ""
    }
   },
   "outputs": [
    {
     "name": "stdout",
     "output_type": "stream",
     "text": [
      "root\n",
      " |-- Row ID: integer (nullable = true)\n",
      " |-- Order ID: string (nullable = true)\n",
      " |-- Order Date: date (nullable = true)\n",
      " |-- Ship Date: date (nullable = true)\n",
      " |-- Ship Mode: string (nullable = true)\n",
      " |-- Customer ID: string (nullable = true)\n",
      " |-- Customer Name: string (nullable = true)\n",
      " |-- Segment: string (nullable = true)\n",
      " |-- Country: string (nullable = true)\n",
      " |-- City: string (nullable = true)\n",
      " |-- State: string (nullable = true)\n",
      " |-- Postal Code: string (nullable = true)\n",
      " |-- Region: string (nullable = true)\n",
      " |-- Product ID: string (nullable = true)\n",
      " |-- Category: string (nullable = true)\n",
      " |-- Sub-Category: string (nullable = true)\n",
      " |-- Product Name: string (nullable = true)\n",
      " |-- Sales: double (nullable = true)\n",
      " |-- Order Year: integer (nullable = true)\n",
      " |-- Order Month: integer (nullable = true)\n",
      "\n"
     ]
    }
   ],
   "source": [
    "df.printSchema()"
   ]
  },
  {
   "cell_type": "code",
   "execution_count": 0,
   "metadata": {
    "application/vnd.databricks.v1+cell": {
     "cellMetadata": {
      "byteLimit": 2048000,
      "rowLimit": 10000
     },
     "inputWidgets": {},
     "nuid": "313c95c8-1245-4506-880a-c0628c096563",
     "showTitle": false,
     "tableResultSettingsMap": {},
     "title": ""
    }
   },
   "outputs": [],
   "source": [
    "df = df.withColumn(\"Postal Code\", regexp_replace(\"Postal Code\", \"\\\\.0$\", \"\"))"
   ]
  },
  {
   "cell_type": "code",
   "execution_count": 0,
   "metadata": {
    "application/vnd.databricks.v1+cell": {
     "cellMetadata": {
      "byteLimit": 2048000,
      "rowLimit": 10000
     },
     "inputWidgets": {},
     "nuid": "7575b772-36e9-4e24-acbc-eba7e8fd52b4",
     "showTitle": false,
     "tableResultSettingsMap": {},
     "title": ""
    }
   },
   "outputs": [],
   "source": [
    "#Save the DataFrame as a CSV file\n",
    "df.write.option(\"header\", \"true\").csv(\"dbfs:/FileStore/Retail_Store_Chain_Analysis/3_processed_data.csv\")"
   ]
  },
  {
   "cell_type": "code",
   "execution_count": 0,
   "metadata": {
    "application/vnd.databricks.v1+cell": {
     "cellMetadata": {
      "byteLimit": 2048000,
      "rowLimit": 10000
     },
     "inputWidgets": {},
     "nuid": "de4e8c7f-6bd8-423e-8960-b7b380c2aeaf",
     "showTitle": false,
     "tableResultSettingsMap": {},
     "title": ""
    }
   },
   "outputs": [],
   "source": [
    "# Save the processed data to a Parquet file for future analysis\n",
    "df.write.partitionBy(\"Region\", \"Category\", \"Order Year\").parquet(\"dbfs:/FileStore/Retail_Store_Chain_Analysis/3_processed_data.parquet\", mode=\"overwrite\")"
   ]
  },
  {
   "cell_type": "markdown",
   "metadata": {
    "application/vnd.databricks.v1+cell": {
     "cellMetadata": {},
     "inputWidgets": {},
     "nuid": "db8328a3-9903-4c33-a2ea-9a93a2bc7735",
     "showTitle": false,
     "tableResultSettingsMap": {},
     "title": ""
    }
   },
   "source": [
    "###  Conclusion\n",
    "\n",
    "The sales history data was processed using PySpark. The following steps were performed:\n",
    "\n",
    "* Loaded the cleaned dataset.\n",
    "\n",
    "* Checked for missing values and rounded the \"Sales\" column.\n",
    "\n",
    "* Extracted year and month from the \"Order Date\" column.\n",
    "\n",
    "* Aggregated sales by year and by year-month.\n",
    "\n",
    "* Cleaned the \"Postal Code\" column.\n",
    "\n",
    "The processed dataset is saved as both a CSV and a Parquet file for future analysis."
   ]
  }
 ],
 "metadata": {
  "application/vnd.databricks.v1+notebook": {
   "computePreferences": null,
   "dashboards": [],
   "environmentMetadata": {
    "base_environment": "",
    "client": "1"
   },
   "language": "python",
   "notebookMetadata": {
    "pythonIndentUnit": 4
   },
   "notebookName": "2_process_sales_history",
   "widgets": {}
  },
  "kernelspec": {
   "display_name": "myenv",
   "language": "python",
   "name": "python3"
  },
  "language_info": {
   "name": "python",
   "version": "3.11.9"
  }
 },
 "nbformat": 4,
 "nbformat_minor": 0
}
